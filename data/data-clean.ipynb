{
 "cells": [
  {
   "cell_type": "code",
   "execution_count": 1,
   "id": "26da9232",
   "metadata": {},
   "outputs": [],
   "source": [
    "import geopandas as gpd"
   ]
  },
  {
   "cell_type": "code",
   "execution_count": 2,
   "id": "4fa79ec8",
   "metadata": {},
   "outputs": [],
   "source": [
    "df = gpd.read_file(\"pipplo_range_2020.geojson\")"
   ]
  },
  {
   "cell_type": "code",
   "execution_count": 3,
   "id": "cedf6224",
   "metadata": {},
   "outputs": [
    {
     "data": {
      "text/html": [
       "<div>\n",
       "<style scoped>\n",
       "    .dataframe tbody tr th:only-of-type {\n",
       "        vertical-align: middle;\n",
       "    }\n",
       "\n",
       "    .dataframe tbody tr th {\n",
       "        vertical-align: top;\n",
       "    }\n",
       "\n",
       "    .dataframe thead th {\n",
       "        text-align: right;\n",
       "    }\n",
       "</style>\n",
       "<table border=\"1\" class=\"dataframe\">\n",
       "  <thead>\n",
       "    <tr style=\"text-align: right;\">\n",
       "      <th></th>\n",
       "      <th>species_code</th>\n",
       "      <th>scientific_name</th>\n",
       "      <th>common_name</th>\n",
       "      <th>prediction_year</th>\n",
       "      <th>type</th>\n",
       "      <th>season</th>\n",
       "      <th>start_date</th>\n",
       "      <th>end_date</th>\n",
       "      <th>geometry</th>\n",
       "    </tr>\n",
       "  </thead>\n",
       "  <tbody>\n",
       "    <tr>\n",
       "      <th>0</th>\n",
       "      <td>pipplo</td>\n",
       "      <td>Charadrius melodus</td>\n",
       "      <td>Piping Plover</td>\n",
       "      <td>2020</td>\n",
       "      <td>range</td>\n",
       "      <td>breeding</td>\n",
       "      <td>2020-05-31</td>\n",
       "      <td>2020-06-21</td>\n",
       "      <td>MULTIPOLYGON (((-95.50744 29.04353, -95.48709 ...</td>\n",
       "    </tr>\n",
       "    <tr>\n",
       "      <th>1</th>\n",
       "      <td>pipplo</td>\n",
       "      <td>Charadrius melodus</td>\n",
       "      <td>Piping Plover</td>\n",
       "      <td>2020</td>\n",
       "      <td>range</td>\n",
       "      <td>nonbreeding</td>\n",
       "      <td>2020-11-09</td>\n",
       "      <td>2020-02-22</td>\n",
       "      <td>MULTIPOLYGON (((-87.00685 20.68017, -86.96362 ...</td>\n",
       "    </tr>\n",
       "    <tr>\n",
       "      <th>2</th>\n",
       "      <td>pipplo</td>\n",
       "      <td>Charadrius melodus</td>\n",
       "      <td>Piping Plover</td>\n",
       "      <td>2020</td>\n",
       "      <td>range</td>\n",
       "      <td>postbreeding_migration</td>\n",
       "      <td>2020-06-28</td>\n",
       "      <td>2020-11-02</td>\n",
       "      <td>MULTIPOLYGON (((-87.41196 19.87617, -87.38092 ...</td>\n",
       "    </tr>\n",
       "    <tr>\n",
       "      <th>3</th>\n",
       "      <td>pipplo</td>\n",
       "      <td>Charadrius melodus</td>\n",
       "      <td>Piping Plover</td>\n",
       "      <td>2020</td>\n",
       "      <td>range</td>\n",
       "      <td>prebreeding_migration</td>\n",
       "      <td>2020-03-01</td>\n",
       "      <td>2020-05-24</td>\n",
       "      <td>MULTIPOLYGON (((-97.46321 27.73117, -97.45992 ...</td>\n",
       "    </tr>\n",
       "  </tbody>\n",
       "</table>\n",
       "</div>"
      ],
      "text/plain": [
       "  species_code     scientific_name    common_name  prediction_year   type  \\\n",
       "0       pipplo  Charadrius melodus  Piping Plover             2020  range   \n",
       "1       pipplo  Charadrius melodus  Piping Plover             2020  range   \n",
       "2       pipplo  Charadrius melodus  Piping Plover             2020  range   \n",
       "3       pipplo  Charadrius melodus  Piping Plover             2020  range   \n",
       "\n",
       "                   season  start_date    end_date  \\\n",
       "0                breeding  2020-05-31  2020-06-21   \n",
       "1             nonbreeding  2020-11-09  2020-02-22   \n",
       "2  postbreeding_migration  2020-06-28  2020-11-02   \n",
       "3   prebreeding_migration  2020-03-01  2020-05-24   \n",
       "\n",
       "                                            geometry  \n",
       "0  MULTIPOLYGON (((-95.50744 29.04353, -95.48709 ...  \n",
       "1  MULTIPOLYGON (((-87.00685 20.68017, -86.96362 ...  \n",
       "2  MULTIPOLYGON (((-87.41196 19.87617, -87.38092 ...  \n",
       "3  MULTIPOLYGON (((-97.46321 27.73117, -97.45992 ...  "
      ]
     },
     "execution_count": 3,
     "metadata": {},
     "output_type": "execute_result"
    }
   ],
   "source": [
    "df.head()"
   ]
  },
  {
   "cell_type": "code",
   "execution_count": 4,
   "id": "5cfed2ca",
   "metadata": {},
   "outputs": [
    {
     "data": {
      "text/plain": [
       "array(['breeding', 'nonbreeding', 'postbreeding_migration',\n",
       "       'prebreeding_migration'], dtype=object)"
      ]
     },
     "execution_count": 4,
     "metadata": {},
     "output_type": "execute_result"
    }
   ],
   "source": [
    "df.season.unique() "
   ]
  },
  {
   "cell_type": "code",
   "execution_count": 5,
   "id": "be0adce0",
   "metadata": {},
   "outputs": [],
   "source": [
    "season_list = ['breeding','nonbreeding']\n",
    "filtered_df = df[df['season'].isin(season_list)]"
   ]
  },
  {
   "cell_type": "code",
   "execution_count": 6,
   "id": "3e3cb3d5",
   "metadata": {},
   "outputs": [],
   "source": [
    "filtered_df.to_file(\"pipplo_range_filter.geojson\", driver='GeoJSON')"
   ]
  },
  {
   "cell_type": "markdown",
   "id": "b3a30457",
   "metadata": {},
   "source": [
    "Data Source: [Hurricane Sandy Damage Estimates by Block Group, 2012](https://earthworks.stanford.edu/catalog/stanford-jp095bg5089)."
   ]
  },
  {
   "cell_type": "code",
   "execution_count": 2,
   "id": "1aa502de",
   "metadata": {},
   "outputs": [],
   "source": [
    "sandy_damage = gpd.read_file(\"sandy-damage.zip\")"
   ]
  },
  {
   "cell_type": "code",
   "execution_count": 3,
   "id": "e5ccb401",
   "metadata": {},
   "outputs": [
    {
     "data": {
      "text/html": [
       "<div>\n",
       "<style scoped>\n",
       "    .dataframe tbody tr th:only-of-type {\n",
       "        vertical-align: middle;\n",
       "    }\n",
       "\n",
       "    .dataframe tbody tr th {\n",
       "        vertical-align: top;\n",
       "    }\n",
       "\n",
       "    .dataframe thead th {\n",
       "        text-align: right;\n",
       "    }\n",
       "</style>\n",
       "<table border=\"1\" class=\"dataframe\">\n",
       "  <thead>\n",
       "    <tr style=\"text-align: right;\">\n",
       "      <th></th>\n",
       "      <th>OBJECTID</th>\n",
       "      <th>GEOID</th>\n",
       "      <th>Total_regi</th>\n",
       "      <th>total_dmg</th>\n",
       "      <th>No_inspect</th>\n",
       "      <th>non_flood_</th>\n",
       "      <th>FL_B_lt_2</th>\n",
       "      <th>FL_B_ge_2</th>\n",
       "      <th>FL_LT_1</th>\n",
       "      <th>FL_1_to_4</th>\n",
       "      <th>...</th>\n",
       "      <th>dmg_o_miss</th>\n",
       "      <th>dmg_r_sf</th>\n",
       "      <th>dmg_r_mf</th>\n",
       "      <th>dmg_r_miss</th>\n",
       "      <th>dmg_o_ni</th>\n",
       "      <th>dmg_o_ins</th>\n",
       "      <th>C_tot_hsg</th>\n",
       "      <th>C_vac_sea</th>\n",
       "      <th>pct_dmg_ns</th>\n",
       "      <th>geometry</th>\n",
       "    </tr>\n",
       "  </thead>\n",
       "  <tbody>\n",
       "    <tr>\n",
       "      <th>0</th>\n",
       "      <td>1001</td>\n",
       "      <td>090091511001</td>\n",
       "      <td>18</td>\n",
       "      <td>11</td>\n",
       "      <td>7</td>\n",
       "      <td>0</td>\n",
       "      <td>0</td>\n",
       "      <td>5</td>\n",
       "      <td>1</td>\n",
       "      <td>4</td>\n",
       "      <td>...</td>\n",
       "      <td>0</td>\n",
       "      <td>3</td>\n",
       "      <td>0</td>\n",
       "      <td>0</td>\n",
       "      <td>1</td>\n",
       "      <td>7</td>\n",
       "      <td>337</td>\n",
       "      <td>43</td>\n",
       "      <td>3.7</td>\n",
       "      <td>POLYGON ((-72.98672 41.23542, -72.98659 41.235...</td>\n",
       "    </tr>\n",
       "    <tr>\n",
       "      <th>1</th>\n",
       "      <td>1002</td>\n",
       "      <td>090091550003</td>\n",
       "      <td>13</td>\n",
       "      <td>10</td>\n",
       "      <td>3</td>\n",
       "      <td>1</td>\n",
       "      <td>1</td>\n",
       "      <td>3</td>\n",
       "      <td>3</td>\n",
       "      <td>2</td>\n",
       "      <td>...</td>\n",
       "      <td>0</td>\n",
       "      <td>0</td>\n",
       "      <td>5</td>\n",
       "      <td>0</td>\n",
       "      <td>1</td>\n",
       "      <td>4</td>\n",
       "      <td>447</td>\n",
       "      <td>0</td>\n",
       "      <td>2.2</td>\n",
       "      <td>POLYGON ((-72.94220 41.26352, -72.94411 41.263...</td>\n",
       "    </tr>\n",
       "    <tr>\n",
       "      <th>2</th>\n",
       "      <td>1003</td>\n",
       "      <td>090010805001</td>\n",
       "      <td>26</td>\n",
       "      <td>13</td>\n",
       "      <td>13</td>\n",
       "      <td>4</td>\n",
       "      <td>3</td>\n",
       "      <td>3</td>\n",
       "      <td>0</td>\n",
       "      <td>3</td>\n",
       "      <td>...</td>\n",
       "      <td>0</td>\n",
       "      <td>0</td>\n",
       "      <td>0</td>\n",
       "      <td>0</td>\n",
       "      <td>5</td>\n",
       "      <td>8</td>\n",
       "      <td>768</td>\n",
       "      <td>12</td>\n",
       "      <td>1.7</td>\n",
       "      <td>POLYGON ((-73.15531 41.15865, -73.15557 41.158...</td>\n",
       "    </tr>\n",
       "    <tr>\n",
       "      <th>3</th>\n",
       "      <td>1004</td>\n",
       "      <td>090091505003</td>\n",
       "      <td>100</td>\n",
       "      <td>75</td>\n",
       "      <td>25</td>\n",
       "      <td>2</td>\n",
       "      <td>7</td>\n",
       "      <td>25</td>\n",
       "      <td>9</td>\n",
       "      <td>28</td>\n",
       "      <td>...</td>\n",
       "      <td>0</td>\n",
       "      <td>11</td>\n",
       "      <td>0</td>\n",
       "      <td>0</td>\n",
       "      <td>26</td>\n",
       "      <td>38</td>\n",
       "      <td>424</td>\n",
       "      <td>52</td>\n",
       "      <td>20.2</td>\n",
       "      <td>MULTIPOLYGON (((-73.10873 41.19009, -73.10768 ...</td>\n",
       "    </tr>\n",
       "    <tr>\n",
       "      <th>4</th>\n",
       "      <td>1005</td>\n",
       "      <td>090091510004</td>\n",
       "      <td>77</td>\n",
       "      <td>63</td>\n",
       "      <td>14</td>\n",
       "      <td>0</td>\n",
       "      <td>1</td>\n",
       "      <td>17</td>\n",
       "      <td>11</td>\n",
       "      <td>24</td>\n",
       "      <td>...</td>\n",
       "      <td>0</td>\n",
       "      <td>7</td>\n",
       "      <td>0</td>\n",
       "      <td>0</td>\n",
       "      <td>7</td>\n",
       "      <td>49</td>\n",
       "      <td>436</td>\n",
       "      <td>11</td>\n",
       "      <td>14.8</td>\n",
       "      <td>POLYGON ((-73.01622 41.20917, -73.01575 41.208...</td>\n",
       "    </tr>\n",
       "  </tbody>\n",
       "</table>\n",
       "<p>5 rows × 23 columns</p>\n",
       "</div>"
      ],
      "text/plain": [
       "   OBJECTID         GEOID  Total_regi  total_dmg  No_inspect  non_flood_  \\\n",
       "0      1001  090091511001          18         11           7           0   \n",
       "1      1002  090091550003          13         10           3           1   \n",
       "2      1003  090010805001          26         13          13           4   \n",
       "3      1004  090091505003         100         75          25           2   \n",
       "4      1005  090091510004          77         63          14           0   \n",
       "\n",
       "   FL_B_lt_2  FL_B_ge_2  FL_LT_1  FL_1_to_4  ...  dmg_o_miss  dmg_r_sf  \\\n",
       "0          0          5        1          4  ...           0         3   \n",
       "1          1          3        3          2  ...           0         0   \n",
       "2          3          3        0          3  ...           0         0   \n",
       "3          7         25        9         28  ...           0        11   \n",
       "4          1         17       11         24  ...           0         7   \n",
       "\n",
       "   dmg_r_mf  dmg_r_miss  dmg_o_ni  dmg_o_ins  C_tot_hsg  C_vac_sea  \\\n",
       "0         0           0         1          7        337         43   \n",
       "1         5           0         1          4        447          0   \n",
       "2         0           0         5          8        768         12   \n",
       "3         0           0        26         38        424         52   \n",
       "4         0           0         7         49        436         11   \n",
       "\n",
       "   pct_dmg_ns                                           geometry  \n",
       "0         3.7  POLYGON ((-72.98672 41.23542, -72.98659 41.235...  \n",
       "1         2.2  POLYGON ((-72.94220 41.26352, -72.94411 41.263...  \n",
       "2         1.7  POLYGON ((-73.15531 41.15865, -73.15557 41.158...  \n",
       "3        20.2  MULTIPOLYGON (((-73.10873 41.19009, -73.10768 ...  \n",
       "4        14.8  POLYGON ((-73.01622 41.20917, -73.01575 41.208...  \n",
       "\n",
       "[5 rows x 23 columns]"
      ]
     },
     "execution_count": 3,
     "metadata": {},
     "output_type": "execute_result"
    }
   ],
   "source": [
    "sandy_damage.head()"
   ]
  },
  {
   "cell_type": "code",
   "execution_count": 10,
   "id": "60a325e2",
   "metadata": {},
   "outputs": [
    {
     "data": {
      "text/plain": [
       "count    1827.000000\n",
       "mean      103.108922\n",
       "std       140.575693\n",
       "min        10.000000\n",
       "25%        14.000000\n",
       "50%        34.000000\n",
       "75%       139.500000\n",
       "max       975.000000\n",
       "Name: total_dmg, dtype: float64"
      ]
     },
     "execution_count": 10,
     "metadata": {},
     "output_type": "execute_result"
    }
   ],
   "source": [
    "sandy_damage.total_dmg.describe()"
   ]
  },
  {
   "cell_type": "code",
   "execution_count": 9,
   "id": "389a1fec",
   "metadata": {},
   "outputs": [],
   "source": [
    "sandy_damage.to_file(\"sandy_damage.geojson\", driver='GeoJSON')"
   ]
  },
  {
   "cell_type": "code",
   "execution_count": 5,
   "id": "343c5615",
   "metadata": {},
   "outputs": [],
   "source": [
    "damage2 = gpd.read_file(\"CBRS-Sandy-Batch-2-Proposed-2018-12-18_0.zip\")"
   ]
  },
  {
   "cell_type": "code",
   "execution_count": 6,
   "id": "321de3a9",
   "metadata": {},
   "outputs": [
    {
     "data": {
      "text/html": [
       "<div>\n",
       "<style scoped>\n",
       "    .dataframe tbody tr th:only-of-type {\n",
       "        vertical-align: middle;\n",
       "    }\n",
       "\n",
       "    .dataframe tbody tr th {\n",
       "        vertical-align: top;\n",
       "    }\n",
       "\n",
       "    .dataframe thead th {\n",
       "        text-align: right;\n",
       "    }\n",
       "</style>\n",
       "<table border=\"1\" class=\"dataframe\">\n",
       "  <thead>\n",
       "    <tr style=\"text-align: right;\">\n",
       "      <th></th>\n",
       "      <th>Id</th>\n",
       "      <th>Unit</th>\n",
       "      <th>Name</th>\n",
       "      <th>Unit_Type</th>\n",
       "      <th>geometry</th>\n",
       "    </tr>\n",
       "  </thead>\n",
       "  <tbody>\n",
       "    <tr>\n",
       "      <th>0</th>\n",
       "      <td>0</td>\n",
       "      <td>D09P</td>\n",
       "      <td>Block Island</td>\n",
       "      <td>Otherwise Protected Area</td>\n",
       "      <td>POLYGON ((-7969337.924 5043713.067, -7968039.5...</td>\n",
       "    </tr>\n",
       "    <tr>\n",
       "      <th>1</th>\n",
       "      <td>0</td>\n",
       "      <td>D09</td>\n",
       "      <td>Block Island</td>\n",
       "      <td>System Unit</td>\n",
       "      <td>POLYGON ((-7965532.314 5045652.647, -7966687.6...</td>\n",
       "    </tr>\n",
       "    <tr>\n",
       "      <th>2</th>\n",
       "      <td>0</td>\n",
       "      <td>D08P</td>\n",
       "      <td>Napatree</td>\n",
       "      <td>Otherwise Protected Area</td>\n",
       "      <td>POLYGON ((-7999453.051 5058737.165, -7999443.4...</td>\n",
       "    </tr>\n",
       "    <tr>\n",
       "      <th>3</th>\n",
       "      <td>0</td>\n",
       "      <td>D07</td>\n",
       "      <td>Maschaug Ponds</td>\n",
       "      <td>System Unit</td>\n",
       "      <td>POLYGON ((-7995170.059 5059960.984, -7995166.8...</td>\n",
       "    </tr>\n",
       "    <tr>\n",
       "      <th>4</th>\n",
       "      <td>0</td>\n",
       "      <td>RI-13P</td>\n",
       "      <td>Misquamicut Beach</td>\n",
       "      <td>Otherwise Protected Area</td>\n",
       "      <td>POLYGON ((-7990939.688 5061881.830, -7990933.6...</td>\n",
       "    </tr>\n",
       "  </tbody>\n",
       "</table>\n",
       "</div>"
      ],
      "text/plain": [
       "   Id    Unit               Name                 Unit_Type  \\\n",
       "0   0    D09P       Block Island  Otherwise Protected Area   \n",
       "1   0     D09       Block Island               System Unit   \n",
       "2   0    D08P           Napatree  Otherwise Protected Area   \n",
       "3   0     D07     Maschaug Ponds               System Unit   \n",
       "4   0  RI-13P  Misquamicut Beach  Otherwise Protected Area   \n",
       "\n",
       "                                            geometry  \n",
       "0  POLYGON ((-7969337.924 5043713.067, -7968039.5...  \n",
       "1  POLYGON ((-7965532.314 5045652.647, -7966687.6...  \n",
       "2  POLYGON ((-7999453.051 5058737.165, -7999443.4...  \n",
       "3  POLYGON ((-7995170.059 5059960.984, -7995166.8...  \n",
       "4  POLYGON ((-7990939.688 5061881.830, -7990933.6...  "
      ]
     },
     "execution_count": 6,
     "metadata": {},
     "output_type": "execute_result"
    }
   ],
   "source": [
    "damage2.head()"
   ]
  },
  {
   "cell_type": "code",
   "execution_count": 8,
   "id": "8f5d439d",
   "metadata": {},
   "outputs": [
    {
     "data": {
      "text/plain": [
       "array(['Otherwise Protected Area', 'System Unit'], dtype=object)"
      ]
     },
     "execution_count": 8,
     "metadata": {},
     "output_type": "execute_result"
    }
   ],
   "source": [
    "damage2.Unit_Type.unique()"
   ]
  },
  {
   "cell_type": "code",
   "execution_count": 11,
   "id": "357a31ce",
   "metadata": {},
   "outputs": [
    {
     "ename": "DriverError",
     "evalue": "marker-2.geojson: No such file or directory",
     "output_type": "error",
     "traceback": [
      "\u001b[0;31m---------------------------------------------------------------------------\u001b[0m",
      "\u001b[0;31mCPLE_OpenFailedError\u001b[0m                      Traceback (most recent call last)",
      "\u001b[0;32mfiona/_shim.pyx\u001b[0m in \u001b[0;36mfiona._shim.gdal_open_vector\u001b[0;34m()\u001b[0m\n",
      "\u001b[0;32mfiona/_err.pyx\u001b[0m in \u001b[0;36mfiona._err.exc_wrap_pointer\u001b[0;34m()\u001b[0m\n",
      "\u001b[0;31mCPLE_OpenFailedError\u001b[0m: marker-2.geojson: No such file or directory",
      "\nDuring handling of the above exception, another exception occurred:\n",
      "\u001b[0;31mDriverError\u001b[0m                               Traceback (most recent call last)",
      "\u001b[0;32m/var/folders/9m/w7ffkstj051dnyjnyklwvwmr0000gn/T/ipykernel_17126/1947340138.py\u001b[0m in \u001b[0;36m<module>\u001b[0;34m\u001b[0m\n\u001b[0;32m----> 1\u001b[0;31m \u001b[0mmarker\u001b[0m \u001b[0;34m=\u001b[0m \u001b[0mgpd\u001b[0m\u001b[0;34m.\u001b[0m\u001b[0mread_file\u001b[0m\u001b[0;34m(\u001b[0m\u001b[0;34m\"marker-2.geojson\"\u001b[0m\u001b[0;34m)\u001b[0m\u001b[0;34m\u001b[0m\u001b[0;34m\u001b[0m\u001b[0m\n\u001b[0m",
      "\u001b[0;32m~/.pyenv/versions/3.9.7/lib/python3.9/site-packages/geopandas/io/file.py\u001b[0m in \u001b[0;36m_read_file\u001b[0;34m(filename, bbox, mask, rows, **kwargs)\u001b[0m\n\u001b[1;32m    199\u001b[0m \u001b[0;34m\u001b[0m\u001b[0m\n\u001b[1;32m    200\u001b[0m     \u001b[0;32mwith\u001b[0m \u001b[0mfiona_env\u001b[0m\u001b[0;34m(\u001b[0m\u001b[0;34m)\u001b[0m\u001b[0;34m:\u001b[0m\u001b[0;34m\u001b[0m\u001b[0;34m\u001b[0m\u001b[0m\n\u001b[0;32m--> 201\u001b[0;31m         \u001b[0;32mwith\u001b[0m \u001b[0mreader\u001b[0m\u001b[0;34m(\u001b[0m\u001b[0mpath_or_bytes\u001b[0m\u001b[0;34m,\u001b[0m \u001b[0;34m**\u001b[0m\u001b[0mkwargs\u001b[0m\u001b[0;34m)\u001b[0m \u001b[0;32mas\u001b[0m \u001b[0mfeatures\u001b[0m\u001b[0;34m:\u001b[0m\u001b[0;34m\u001b[0m\u001b[0;34m\u001b[0m\u001b[0m\n\u001b[0m\u001b[1;32m    202\u001b[0m \u001b[0;34m\u001b[0m\u001b[0m\n\u001b[1;32m    203\u001b[0m             \u001b[0;31m# In a future Fiona release the crs attribute of features will\u001b[0m\u001b[0;34m\u001b[0m\u001b[0;34m\u001b[0m\u001b[0m\n",
      "\u001b[0;32m~/.pyenv/versions/3.9.7/lib/python3.9/site-packages/fiona/env.py\u001b[0m in \u001b[0;36mwrapper\u001b[0;34m(*args, **kwargs)\u001b[0m\n\u001b[1;32m    406\u001b[0m     \u001b[0;32mdef\u001b[0m \u001b[0mwrapper\u001b[0m\u001b[0;34m(\u001b[0m\u001b[0;34m*\u001b[0m\u001b[0margs\u001b[0m\u001b[0;34m,\u001b[0m \u001b[0;34m**\u001b[0m\u001b[0mkwargs\u001b[0m\u001b[0;34m)\u001b[0m\u001b[0;34m:\u001b[0m\u001b[0;34m\u001b[0m\u001b[0;34m\u001b[0m\u001b[0m\n\u001b[1;32m    407\u001b[0m         \u001b[0;32mif\u001b[0m \u001b[0mlocal\u001b[0m\u001b[0;34m.\u001b[0m\u001b[0m_env\u001b[0m\u001b[0;34m:\u001b[0m\u001b[0;34m\u001b[0m\u001b[0;34m\u001b[0m\u001b[0m\n\u001b[0;32m--> 408\u001b[0;31m             \u001b[0;32mreturn\u001b[0m \u001b[0mf\u001b[0m\u001b[0;34m(\u001b[0m\u001b[0;34m*\u001b[0m\u001b[0margs\u001b[0m\u001b[0;34m,\u001b[0m \u001b[0;34m**\u001b[0m\u001b[0mkwargs\u001b[0m\u001b[0;34m)\u001b[0m\u001b[0;34m\u001b[0m\u001b[0;34m\u001b[0m\u001b[0m\n\u001b[0m\u001b[1;32m    409\u001b[0m         \u001b[0;32melse\u001b[0m\u001b[0;34m:\u001b[0m\u001b[0;34m\u001b[0m\u001b[0;34m\u001b[0m\u001b[0m\n\u001b[1;32m    410\u001b[0m             \u001b[0;32mif\u001b[0m \u001b[0misinstance\u001b[0m\u001b[0;34m(\u001b[0m\u001b[0margs\u001b[0m\u001b[0;34m[\u001b[0m\u001b[0;36m0\u001b[0m\u001b[0;34m]\u001b[0m\u001b[0;34m,\u001b[0m \u001b[0mstr\u001b[0m\u001b[0;34m)\u001b[0m\u001b[0;34m:\u001b[0m\u001b[0;34m\u001b[0m\u001b[0;34m\u001b[0m\u001b[0m\n",
      "\u001b[0;32m~/.pyenv/versions/3.9.7/lib/python3.9/site-packages/fiona/__init__.py\u001b[0m in \u001b[0;36mopen\u001b[0;34m(fp, mode, driver, schema, crs, encoding, layer, vfs, enabled_drivers, crs_wkt, **kwargs)\u001b[0m\n\u001b[1;32m    262\u001b[0m \u001b[0;34m\u001b[0m\u001b[0m\n\u001b[1;32m    263\u001b[0m         \u001b[0;32mif\u001b[0m \u001b[0mmode\u001b[0m \u001b[0;32min\u001b[0m \u001b[0;34m(\u001b[0m\u001b[0;34m'a'\u001b[0m\u001b[0;34m,\u001b[0m \u001b[0;34m'r'\u001b[0m\u001b[0;34m)\u001b[0m\u001b[0;34m:\u001b[0m\u001b[0;34m\u001b[0m\u001b[0;34m\u001b[0m\u001b[0m\n\u001b[0;32m--> 264\u001b[0;31m             c = Collection(path, mode, driver=driver, encoding=encoding,\n\u001b[0m\u001b[1;32m    265\u001b[0m                            layer=layer, enabled_drivers=enabled_drivers, **kwargs)\n\u001b[1;32m    266\u001b[0m         \u001b[0;32melif\u001b[0m \u001b[0mmode\u001b[0m \u001b[0;34m==\u001b[0m \u001b[0;34m'w'\u001b[0m\u001b[0;34m:\u001b[0m\u001b[0;34m\u001b[0m\u001b[0;34m\u001b[0m\u001b[0m\n",
      "\u001b[0;32m~/.pyenv/versions/3.9.7/lib/python3.9/site-packages/fiona/collection.py\u001b[0m in \u001b[0;36m__init__\u001b[0;34m(self, path, mode, driver, schema, crs, encoding, layer, vsi, archive, enabled_drivers, crs_wkt, ignore_fields, ignore_geometry, **kwargs)\u001b[0m\n\u001b[1;32m    160\u001b[0m             \u001b[0;32mif\u001b[0m \u001b[0mself\u001b[0m\u001b[0;34m.\u001b[0m\u001b[0mmode\u001b[0m \u001b[0;34m==\u001b[0m \u001b[0;34m'r'\u001b[0m\u001b[0;34m:\u001b[0m\u001b[0;34m\u001b[0m\u001b[0;34m\u001b[0m\u001b[0m\n\u001b[1;32m    161\u001b[0m                 \u001b[0mself\u001b[0m\u001b[0;34m.\u001b[0m\u001b[0msession\u001b[0m \u001b[0;34m=\u001b[0m \u001b[0mSession\u001b[0m\u001b[0;34m(\u001b[0m\u001b[0;34m)\u001b[0m\u001b[0;34m\u001b[0m\u001b[0;34m\u001b[0m\u001b[0m\n\u001b[0;32m--> 162\u001b[0;31m                 \u001b[0mself\u001b[0m\u001b[0;34m.\u001b[0m\u001b[0msession\u001b[0m\u001b[0;34m.\u001b[0m\u001b[0mstart\u001b[0m\u001b[0;34m(\u001b[0m\u001b[0mself\u001b[0m\u001b[0;34m,\u001b[0m \u001b[0;34m**\u001b[0m\u001b[0mkwargs\u001b[0m\u001b[0;34m)\u001b[0m\u001b[0;34m\u001b[0m\u001b[0;34m\u001b[0m\u001b[0m\n\u001b[0m\u001b[1;32m    163\u001b[0m             \u001b[0;32melif\u001b[0m \u001b[0mself\u001b[0m\u001b[0;34m.\u001b[0m\u001b[0mmode\u001b[0m \u001b[0;32min\u001b[0m \u001b[0;34m(\u001b[0m\u001b[0;34m'a'\u001b[0m\u001b[0;34m,\u001b[0m \u001b[0;34m'w'\u001b[0m\u001b[0;34m)\u001b[0m\u001b[0;34m:\u001b[0m\u001b[0;34m\u001b[0m\u001b[0;34m\u001b[0m\u001b[0m\n\u001b[1;32m    164\u001b[0m                 \u001b[0mself\u001b[0m\u001b[0;34m.\u001b[0m\u001b[0msession\u001b[0m \u001b[0;34m=\u001b[0m \u001b[0mWritingSession\u001b[0m\u001b[0;34m(\u001b[0m\u001b[0;34m)\u001b[0m\u001b[0;34m\u001b[0m\u001b[0;34m\u001b[0m\u001b[0m\n",
      "\u001b[0;32mfiona/ogrext.pyx\u001b[0m in \u001b[0;36mfiona.ogrext.Session.start\u001b[0;34m()\u001b[0m\n",
      "\u001b[0;32mfiona/_shim.pyx\u001b[0m in \u001b[0;36mfiona._shim.gdal_open_vector\u001b[0;34m()\u001b[0m\n",
      "\u001b[0;31mDriverError\u001b[0m: marker-2.geojson: No such file or directory"
     ]
    }
   ],
   "source": [
    "marker = gpd.read_file(\"marker-2.geojson\")"
   ]
  },
  {
   "cell_type": "code",
   "execution_count": 3,
   "id": "50a18f14",
   "metadata": {},
   "outputs": [
    {
     "data": {
      "text/html": [
       "<div>\n",
       "<style scoped>\n",
       "    .dataframe tbody tr th:only-of-type {\n",
       "        vertical-align: middle;\n",
       "    }\n",
       "\n",
       "    .dataframe tbody tr th {\n",
       "        vertical-align: top;\n",
       "    }\n",
       "\n",
       "    .dataframe thead th {\n",
       "        text-align: right;\n",
       "    }\n",
       "</style>\n",
       "<table border=\"1\" class=\"dataframe\">\n",
       "  <thead>\n",
       "    <tr style=\"text-align: right;\">\n",
       "      <th></th>\n",
       "      <th>name</th>\n",
       "      <th>geometry</th>\n",
       "    </tr>\n",
       "  </thead>\n",
       "  <tbody>\n",
       "    <tr>\n",
       "      <th>0</th>\n",
       "      <td>Virginia</td>\n",
       "      <td>POINT (-78.55225 37.57071)</td>\n",
       "    </tr>\n",
       "    <tr>\n",
       "      <th>1</th>\n",
       "      <td>Maryland</td>\n",
       "      <td>POINT (-76.86584 39.46164)</td>\n",
       "    </tr>\n",
       "  </tbody>\n",
       "</table>\n",
       "</div>"
      ],
      "text/plain": [
       "       name                    geometry\n",
       "0  Virginia  POINT (-78.55225 37.57071)\n",
       "1  Maryland  POINT (-76.86584 39.46164)"
      ]
     },
     "execution_count": 3,
     "metadata": {},
     "output_type": "execute_result"
    }
   ],
   "source": [
    "marker.head()"
   ]
  },
  {
   "cell_type": "code",
   "execution_count": 5,
   "id": "0abae396",
   "metadata": {},
   "outputs": [
    {
     "data": {
      "text/plain": [
       "<Geographic 2D CRS: EPSG:4326>\n",
       "Name: WGS 84\n",
       "Axis Info [ellipsoidal]:\n",
       "- Lat[north]: Geodetic latitude (degree)\n",
       "- Lon[east]: Geodetic longitude (degree)\n",
       "Area of Use:\n",
       "- name: World.\n",
       "- bounds: (-180.0, -90.0, 180.0, 90.0)\n",
       "Datum: World Geodetic System 1984 ensemble\n",
       "- Ellipsoid: WGS 84\n",
       "- Prime Meridian: Greenwich"
      ]
     },
     "execution_count": 5,
     "metadata": {},
     "output_type": "execute_result"
    }
   ],
   "source": [
    "marker.crs"
   ]
  },
  {
   "cell_type": "code",
   "execution_count": 6,
   "id": "beb1e9d0",
   "metadata": {},
   "outputs": [],
   "source": [
    "import altair as alt"
   ]
  },
  {
   "cell_type": "code",
   "execution_count": 9,
   "id": "f8e20482",
   "metadata": {},
   "outputs": [
    {
     "data": {
      "text/html": [
       "\n",
       "<div id=\"altair-viz-a615c679ba5046f18b282cf440f3a00c\"></div>\n",
       "<script type=\"text/javascript\">\n",
       "  var VEGA_DEBUG = (typeof VEGA_DEBUG == \"undefined\") ? {} : VEGA_DEBUG;\n",
       "  (function(spec, embedOpt){\n",
       "    let outputDiv = document.currentScript.previousElementSibling;\n",
       "    if (outputDiv.id !== \"altair-viz-a615c679ba5046f18b282cf440f3a00c\") {\n",
       "      outputDiv = document.getElementById(\"altair-viz-a615c679ba5046f18b282cf440f3a00c\");\n",
       "    }\n",
       "    const paths = {\n",
       "      \"vega\": \"https://cdn.jsdelivr.net/npm//vega@5?noext\",\n",
       "      \"vega-lib\": \"https://cdn.jsdelivr.net/npm//vega-lib?noext\",\n",
       "      \"vega-lite\": \"https://cdn.jsdelivr.net/npm//vega-lite@4.17.0?noext\",\n",
       "      \"vega-embed\": \"https://cdn.jsdelivr.net/npm//vega-embed@6?noext\",\n",
       "    };\n",
       "\n",
       "    function maybeLoadScript(lib, version) {\n",
       "      var key = `${lib.replace(\"-\", \"\")}_version`;\n",
       "      return (VEGA_DEBUG[key] == version) ?\n",
       "        Promise.resolve(paths[lib]) :\n",
       "        new Promise(function(resolve, reject) {\n",
       "          var s = document.createElement('script');\n",
       "          document.getElementsByTagName(\"head\")[0].appendChild(s);\n",
       "          s.async = true;\n",
       "          s.onload = () => {\n",
       "            VEGA_DEBUG[key] = version;\n",
       "            return resolve(paths[lib]);\n",
       "          };\n",
       "          s.onerror = () => reject(`Error loading script: ${paths[lib]}`);\n",
       "          s.src = paths[lib];\n",
       "        });\n",
       "    }\n",
       "\n",
       "    function showError(err) {\n",
       "      outputDiv.innerHTML = `<div class=\"error\" style=\"color:red;\">${err}</div>`;\n",
       "      throw err;\n",
       "    }\n",
       "\n",
       "    function displayChart(vegaEmbed) {\n",
       "      vegaEmbed(outputDiv, spec, embedOpt)\n",
       "        .catch(err => showError(`Javascript Error: ${err.message}<br>This usually means there's a typo in your chart specification. See the javascript console for the full traceback.`));\n",
       "    }\n",
       "\n",
       "    if(typeof define === \"function\" && define.amd) {\n",
       "      requirejs.config({paths});\n",
       "      require([\"vega-embed\"], displayChart, err => showError(`Error loading script: ${err.message}`));\n",
       "    } else {\n",
       "      maybeLoadScript(\"vega\", \"5\")\n",
       "        .then(() => maybeLoadScript(\"vega-lite\", \"4.17.0\"))\n",
       "        .then(() => maybeLoadScript(\"vega-embed\", \"6\"))\n",
       "        .catch(showError)\n",
       "        .then(() => displayChart(vegaEmbed));\n",
       "    }\n",
       "  })({\"config\": {\"view\": {\"continuousWidth\": 400, \"continuousHeight\": 300}}, \"data\": {\"name\": \"data-d75ab2b89e21b0c5845196cba818af39\"}, \"mark\": \"geoshape\", \"encoding\": {}, \"height\": 500, \"projection\": {\"type\": \"albersUsa\"}, \"title\": \"Virginia and Maryland\", \"width\": 500, \"$schema\": \"https://vega.github.io/schema/vega-lite/v4.17.0.json\", \"datasets\": {\"data-d75ab2b89e21b0c5845196cba818af39\": [{\"name\": \"Virginia\", \"type\": \"Feature\", \"geometry\": {\"type\": \"Point\", \"coordinates\": [-78.55224609374999, 37.57070524233116]}}, {\"name\": \"Maryland\", \"type\": \"Feature\", \"geometry\": {\"type\": \"Point\", \"coordinates\": [-76.8658447265625, 39.46164364205549]}}]}}, {\"mode\": \"vega-lite\"});\n",
       "</script>"
      ],
      "text/plain": [
       "alt.Chart(...)"
      ]
     },
     "execution_count": 9,
     "metadata": {},
     "output_type": "execute_result"
    }
   ],
   "source": [
    "alt.Chart(marker).mark_geoshape().encode(\n",
    ").project(\n",
    "    type='albersUsa'\n",
    ").properties(\n",
    "    title='Virginia and Maryland',\n",
    "    width=500,\n",
    "    height=500\n",
    ")"
   ]
  },
  {
   "cell_type": "code",
   "execution_count": 10,
   "id": "479ea902",
   "metadata": {},
   "outputs": [],
   "source": [
    "marker.to_file('marker-1.geojson', driver=\"GeoJSON\")"
   ]
  }
 ],
 "metadata": {
  "kernelspec": {
   "display_name": "Python 3 (ipykernel)",
   "language": "python",
   "name": "python3"
  },
  "language_info": {
   "codemirror_mode": {
    "name": "ipython",
    "version": 3
   },
   "file_extension": ".py",
   "mimetype": "text/x-python",
   "name": "python",
   "nbconvert_exporter": "python",
   "pygments_lexer": "ipython3",
   "version": "3.9.7"
  }
 },
 "nbformat": 4,
 "nbformat_minor": 5
}
