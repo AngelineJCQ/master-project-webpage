{
 "cells": [
  {
   "cell_type": "code",
   "execution_count": 1,
   "id": "26da9232",
   "metadata": {},
   "outputs": [],
   "source": [
    "import geopandas as gpd"
   ]
  },
  {
   "cell_type": "code",
   "execution_count": 2,
   "id": "4fa79ec8",
   "metadata": {},
   "outputs": [],
   "source": [
    "df = gpd.read_file(\"pipplo_range_2020.geojson\")"
   ]
  },
  {
   "cell_type": "code",
   "execution_count": 3,
   "id": "cedf6224",
   "metadata": {},
   "outputs": [
    {
     "data": {
      "text/html": [
       "<div>\n",
       "<style scoped>\n",
       "    .dataframe tbody tr th:only-of-type {\n",
       "        vertical-align: middle;\n",
       "    }\n",
       "\n",
       "    .dataframe tbody tr th {\n",
       "        vertical-align: top;\n",
       "    }\n",
       "\n",
       "    .dataframe thead th {\n",
       "        text-align: right;\n",
       "    }\n",
       "</style>\n",
       "<table border=\"1\" class=\"dataframe\">\n",
       "  <thead>\n",
       "    <tr style=\"text-align: right;\">\n",
       "      <th></th>\n",
       "      <th>species_code</th>\n",
       "      <th>scientific_name</th>\n",
       "      <th>common_name</th>\n",
       "      <th>prediction_year</th>\n",
       "      <th>type</th>\n",
       "      <th>season</th>\n",
       "      <th>start_date</th>\n",
       "      <th>end_date</th>\n",
       "      <th>geometry</th>\n",
       "    </tr>\n",
       "  </thead>\n",
       "  <tbody>\n",
       "    <tr>\n",
       "      <th>0</th>\n",
       "      <td>pipplo</td>\n",
       "      <td>Charadrius melodus</td>\n",
       "      <td>Piping Plover</td>\n",
       "      <td>2020</td>\n",
       "      <td>range</td>\n",
       "      <td>breeding</td>\n",
       "      <td>2020-05-31</td>\n",
       "      <td>2020-06-21</td>\n",
       "      <td>MULTIPOLYGON (((-95.50744 29.04353, -95.48709 ...</td>\n",
       "    </tr>\n",
       "    <tr>\n",
       "      <th>1</th>\n",
       "      <td>pipplo</td>\n",
       "      <td>Charadrius melodus</td>\n",
       "      <td>Piping Plover</td>\n",
       "      <td>2020</td>\n",
       "      <td>range</td>\n",
       "      <td>nonbreeding</td>\n",
       "      <td>2020-11-09</td>\n",
       "      <td>2020-02-22</td>\n",
       "      <td>MULTIPOLYGON (((-87.00685 20.68017, -86.96362 ...</td>\n",
       "    </tr>\n",
       "    <tr>\n",
       "      <th>2</th>\n",
       "      <td>pipplo</td>\n",
       "      <td>Charadrius melodus</td>\n",
       "      <td>Piping Plover</td>\n",
       "      <td>2020</td>\n",
       "      <td>range</td>\n",
       "      <td>postbreeding_migration</td>\n",
       "      <td>2020-06-28</td>\n",
       "      <td>2020-11-02</td>\n",
       "      <td>MULTIPOLYGON (((-87.41196 19.87617, -87.38092 ...</td>\n",
       "    </tr>\n",
       "    <tr>\n",
       "      <th>3</th>\n",
       "      <td>pipplo</td>\n",
       "      <td>Charadrius melodus</td>\n",
       "      <td>Piping Plover</td>\n",
       "      <td>2020</td>\n",
       "      <td>range</td>\n",
       "      <td>prebreeding_migration</td>\n",
       "      <td>2020-03-01</td>\n",
       "      <td>2020-05-24</td>\n",
       "      <td>MULTIPOLYGON (((-97.46321 27.73117, -97.45992 ...</td>\n",
       "    </tr>\n",
       "  </tbody>\n",
       "</table>\n",
       "</div>"
      ],
      "text/plain": [
       "  species_code     scientific_name    common_name  prediction_year   type  \\\n",
       "0       pipplo  Charadrius melodus  Piping Plover             2020  range   \n",
       "1       pipplo  Charadrius melodus  Piping Plover             2020  range   \n",
       "2       pipplo  Charadrius melodus  Piping Plover             2020  range   \n",
       "3       pipplo  Charadrius melodus  Piping Plover             2020  range   \n",
       "\n",
       "                   season  start_date    end_date  \\\n",
       "0                breeding  2020-05-31  2020-06-21   \n",
       "1             nonbreeding  2020-11-09  2020-02-22   \n",
       "2  postbreeding_migration  2020-06-28  2020-11-02   \n",
       "3   prebreeding_migration  2020-03-01  2020-05-24   \n",
       "\n",
       "                                            geometry  \n",
       "0  MULTIPOLYGON (((-95.50744 29.04353, -95.48709 ...  \n",
       "1  MULTIPOLYGON (((-87.00685 20.68017, -86.96362 ...  \n",
       "2  MULTIPOLYGON (((-87.41196 19.87617, -87.38092 ...  \n",
       "3  MULTIPOLYGON (((-97.46321 27.73117, -97.45992 ...  "
      ]
     },
     "execution_count": 3,
     "metadata": {},
     "output_type": "execute_result"
    }
   ],
   "source": [
    "df.head()"
   ]
  },
  {
   "cell_type": "code",
   "execution_count": 4,
   "id": "5cfed2ca",
   "metadata": {},
   "outputs": [
    {
     "data": {
      "text/plain": [
       "array(['breeding', 'nonbreeding', 'postbreeding_migration',\n",
       "       'prebreeding_migration'], dtype=object)"
      ]
     },
     "execution_count": 4,
     "metadata": {},
     "output_type": "execute_result"
    }
   ],
   "source": [
    "df.season.unique() "
   ]
  },
  {
   "cell_type": "code",
   "execution_count": 5,
   "id": "be0adce0",
   "metadata": {},
   "outputs": [],
   "source": [
    "season_list = ['breeding','nonbreeding']\n",
    "filtered_df = df[df['season'].isin(season_list)]"
   ]
  },
  {
   "cell_type": "code",
   "execution_count": 6,
   "id": "3e3cb3d5",
   "metadata": {},
   "outputs": [],
   "source": [
    "filtered_df.to_file(\"pipplo_range_filter.geojson\", driver='GeoJSON')"
   ]
  }
 ],
 "metadata": {
  "kernelspec": {
   "display_name": "Python 3 (ipykernel)",
   "language": "python",
   "name": "python3"
  },
  "language_info": {
   "codemirror_mode": {
    "name": "ipython",
    "version": 3
   },
   "file_extension": ".py",
   "mimetype": "text/x-python",
   "name": "python",
   "nbconvert_exporter": "python",
   "pygments_lexer": "ipython3",
   "version": "3.9.7"
  }
 },
 "nbformat": 4,
 "nbformat_minor": 5
}
